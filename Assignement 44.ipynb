{
 "cells": [
  {
   "cell_type": "markdown",
   "id": "2324193b",
   "metadata": {},
   "source": [
    "# Q1. Explain the difference between linear regression and logistic regression models. Provide an example of a scenario where logistic regression would be more appropriate."
   ]
  },
  {
   "cell_type": "markdown",
   "id": "476712ba",
   "metadata": {},
   "source": [
    "#  ans .. the  linear regression is use to the not calssification  output  and logistic regression is use to the  classification output   linearregrrison is also work for classification problem but  the outliear if effected the fited line so the liear model is fail for callsification problem  \n",
    "# I  have the  classification type proble like  student pass/fail ,and  mail spam/not spam  this type problem  logistic regression  is work more appropriate."
   ]
  },
  {
   "cell_type": "markdown",
   "id": "a94632a3",
   "metadata": {},
   "source": [
    "# Q2. What is the cost function used in logistic regression, and how is it optimized?"
   ]
  },
  {
   "cell_type": "markdown",
   "id": "f1a7c2db",
   "metadata": {},
   "source": [
    "#  ans linear regrssion this type function is use  the linear regression is  convex function but the same type function use to the logistic  regrssion so not be the convex function  that functio have the many local minima so the model confunes  but i have use the different type function\n",
    "#   -ylog(y^)-(1-y)log(1-y^)"
   ]
  },
  {
   "cell_type": "markdown",
   "id": "4c8b8716",
   "metadata": {},
   "source": [
    "# Q3. Explain the concept of regularization in logistic regression and how it helps prevent overfitting."
   ]
  },
  {
   "cell_type": "markdown",
   "id": "8d123439",
   "metadata": {},
   "source": [
    "# ans .. regularization logistic regression use the extram constan fuction in loss function \n",
    "# -ylog(y^))-(1-Y)log(1-y)+lambda *(sum of 1 to n )|slope|"
   ]
  },
  {
   "cell_type": "markdown",
   "id": "61e07228",
   "metadata": {},
   "source": [
    "# Q4. What is the ROC curve, and how is it used to evaluate the performance of the logistic regression model?"
   ]
  },
  {
   "cell_type": "markdown",
   "id": "784a451a",
   "metadata": {},
   "source": [
    "# ROC curve is used to the calculate   performation of the model   it is find the best thersold of model \n"
   ]
  },
  {
   "cell_type": "markdown",
   "id": "64c514d7",
   "metadata": {},
   "source": [
    "# Q5. What are some common techniques for feature selection in logistic regression? How do these techniques help improve the model's performance?"
   ]
  },
  {
   "cell_type": "markdown",
   "id": "f9bc954c",
   "metadata": {},
   "source": [
    "# ans..There are several types of statistical tests that can be used for filter feature selection, including chi-square, ANOVA, and mutual information. These tests measure the degree of association between the features and the target variable, and can help identify the most relevant features for the model"
   ]
  },
  {
   "cell_type": "markdown",
   "id": "1d3c0d24",
   "metadata": {},
   "source": [
    "# Q6. How can you handle imbalanced datasets in logistic regression? What are some strategies for dealing with class imbalance?"
   ]
  },
  {
   "cell_type": "markdown",
   "id": "e9277370",
   "metadata": {},
   "source": [
    "#  ans .. logistic regression handle the imblanced dataset used the presion and recall and use the elacticnet "
   ]
  },
  {
   "cell_type": "markdown",
   "id": "d1fb9c9a",
   "metadata": {},
   "source": [
    " # Q7. Can you discuss some common issues and challenges that may arise when implementing logistic regression, and how they can be addressed? For example, what can be done if there is multicollinearity among the independent variables?"
   ]
  },
  {
   "cell_type": "markdown",
   "id": "b9605668",
   "metadata": {},
   "source": [
    "# Multicollinearity is a statistical phenomenon in which two or more predictor variables in a multiple logistic regression model are highly correlated or associated. More clearly, a set of variables is collinear or ill conditioning if there exists one or more linear relationships among the explanatory variables"
   ]
  },
  {
   "cell_type": "code",
   "execution_count": null,
   "id": "f709adc2",
   "metadata": {},
   "outputs": [],
   "source": []
  }
 ],
 "metadata": {
  "kernelspec": {
   "display_name": "Python 3 (ipykernel)",
   "language": "python",
   "name": "python3"
  },
  "language_info": {
   "codemirror_mode": {
    "name": "ipython",
    "version": 3
   },
   "file_extension": ".py",
   "mimetype": "text/x-python",
   "name": "python",
   "nbconvert_exporter": "python",
   "pygments_lexer": "ipython3",
   "version": "3.10.9"
  }
 },
 "nbformat": 4,
 "nbformat_minor": 5
}
